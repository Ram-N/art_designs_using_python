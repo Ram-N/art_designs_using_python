{
 "cells": [
  {
   "cell_type": "markdown",
   "metadata": {},
   "source": [
    "## Using only Arcs and Circles, try to draw this design\n",
    "\n",
    "This design is made up of a circle, which is they divided by six other circles of the same size."
   ]
  },
  {
   "cell_type": "markdown",
   "metadata": {},
   "source": [
    "### Exercise 1-A\n",
    "\n",
    "!['images/exercise_1_flower_of_life.png'](images/exercise_1_flower_of_life.png)"
   ]
  },
  {
   "cell_type": "markdown",
   "metadata": {},
   "source": [
    "### Exercise 1-B\n",
    "\n",
    "\n",
    "![exercise_2_circle_with_six_segments.png](images/exercise_2_circle_with_six_segments.png)\n",
    "\n",
    "### Exercise 1-C\n",
    "![exercise_3_tile.png](images/exercise_3_tile.png)"
   ]
  },
  {
   "cell_type": "markdown",
   "metadata": {},
   "source": [
    "To create the designs above, there are a couple of Notebooks that should be helpful.\n",
    "\n",
    "\n",
    "    \n",
    "1. A Circle is a specialized Ellipse\n",
    "2. An Arc in an Ellipse is drawn as part of a full Ellipse, except that we specify its starting Angle (called theta1) and its ending angle -- theta 2\n",
    "\n",
    "\n",
    "In the [Notebook Drawing Ellipses and Circles](1.0_Design_Drawing_Ellipses_and_Circles.ipynb) You will see examples of how to draw a Full circle.\n",
    "\n",
    "In Notebook [2.0_Design_Drawing_Arcs](2.0_Design_Drawing_Arcs.ipynb) , there are examples of drawing several arcs of varying `theta1` `theta2` (angles).\n",
    "\n",
    "Both these notebooks use Matplotlib to plot on the canvas.\n",
    "\n",
    "\n",
    "# Your Turn to do the Exercises now\n",
    "To successfully create the first design (Flower-of-Life-6), you will need to calculate its center, the centers of other circles.\n",
    "If you can calculate the centers, the rest is just a matter of plotting 7 different circles, all with the same radius.\n",
    "\n"
   ]
  },
  {
   "cell_type": "code",
   "execution_count": null,
   "metadata": {},
   "outputs": [],
   "source": []
  }
 ],
 "metadata": {
  "kernelspec": {
   "display_name": "Python 3",
   "language": "python",
   "name": "python3"
  },
  "language_info": {
   "codemirror_mode": {
    "name": "ipython",
    "version": 3
   },
   "file_extension": ".py",
   "mimetype": "text/x-python",
   "name": "python",
   "nbconvert_exporter": "python",
   "pygments_lexer": "ipython3",
   "version": "3.7.4"
  }
 },
 "nbformat": 4,
 "nbformat_minor": 4
}
