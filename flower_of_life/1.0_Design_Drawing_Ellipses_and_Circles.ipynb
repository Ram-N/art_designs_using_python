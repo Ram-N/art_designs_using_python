{
 "cells": [
  {
   "cell_type": "markdown",
   "metadata": {},
   "source": [
    "### Designs with Python\n",
    "\n",
    "# 1.0 Helper Notebook\n",
    "\n",
    "How to draw Ellipses (and Circles) on the canvas Using Matplotlib"
   ]
  },
  {
   "cell_type": "code",
   "execution_count": 2,
   "metadata": {},
   "outputs": [],
   "source": [
    "import matplotlib as mpl\n",
    "import matplotlib.pyplot as plt\n",
    "from matplotlib.patches import Ellipse\n",
    "%matplotlib inline"
   ]
  },
  {
   "cell_type": "markdown",
   "metadata": {},
   "source": [
    "### Drawing Ellipses\n",
    "\n",
    "\n",
    "```\n",
    "Init signature: Ellipse(xy, width, height, angle=0, **kwargs)\n",
    "Docstring:      A scale-free ellipse.\n",
    "Parameters\n",
    "----------\n",
    "xy : (float, float)\n",
    "    xy coordinates of ellipse centre.\n",
    "width : float\n",
    "    Total length (diameter) of horizontal axis.\n",
    "height : float\n",
    "    Total length (diameter) of vertical axis.\n",
    "angle : scalar, optional\n",
    "    Rotation in degrees anti-clockwise.\n",
    "```"
   ]
  },
  {
   "cell_type": "markdown",
   "metadata": {},
   "source": [
    "In the following cell, we are drawing 4 different Ellipses. You can see the role of the center x,y coordinates as well as the height, width and angle parameters."
   ]
  },
  {
   "cell_type": "code",
   "execution_count": 8,
   "metadata": {},
   "outputs": [
    {
     "data": {
      "text/plain": [
       "<matplotlib.patches.Ellipse at 0x1fb3ab39408>"
      ]
     },
     "execution_count": 8,
     "metadata": {},
     "output_type": "execute_result"
    },
    {
     "data": {
      "image/png": "[encoded data removed]",
      "text/plain": [
       "<Figure size 144x360 with 1 Axes>"
      ]
     },
     "metadata": {
      "needs_background": "light"
     },
     "output_type": "display_data"
    }
   ],
   "source": [
    "fig = plt.figure(figsize=(2,5))\n",
    "ax = fig.add_subplot(1,1,1) #1 column, 1 row and plot number 1.\n",
    "#subplots are useful when you want to show multiple plts in one figure. More on this later.\n",
    "\n",
    "ax.set_ylim(0, 50)\n",
    "ax.set_xlim(0, 20)\n",
    "#ax.axis('off')\n",
    "\n",
    "a = Ellipse((10, 45), 10, 3, 0, color='red', lw=1)\n",
    "ax.add_patch(a)\n",
    "\n",
    "a = Ellipse((10, 40), 10, 3, 10, color='blue', lw=1)\n",
    "ax.add_patch(a)\n",
    "\n",
    "a = Ellipse((10, 25), 10, 3, 90, color='g', lw=1)\n",
    "ax.add_patch(a)\n",
    "\n",
    "a = Ellipse((20, 15), 10, 3, 30, color='k', lw=1)\n",
    "ax.add_patch(a)\n",
    "\n"
   ]
  },
  {
   "cell_type": "markdown",
   "metadata": {},
   "source": [
    "Notice that the 4th ellipse (the black one) has half disappeared. This is because of how we set our `xlim` and `ylim`\n",
    "\n",
    "### Drawing Circles\n",
    "\n",
    "A circle is just an Ellipse, but with height and width the same.\n",
    "One small change will do it."
   ]
  },
  {
   "cell_type": "code",
   "execution_count": 6,
   "metadata": {},
   "outputs": [
    {
     "data": {
      "text/plain": [
       "<matplotlib.patches.Ellipse at 0x1fb3aa89548>"
      ]
     },
     "execution_count": 6,
     "metadata": {},
     "output_type": "execute_result"
    },
    {
     "data": {
      "image/png": "[encoded data removed]",
      "text/plain": [
       "<Figure size 144x360 with 1 Axes>"
      ]
     },
     "metadata": {
      "needs_background": "light"
     },
     "output_type": "display_data"
    }
   ],
   "source": [
    "fig = plt.figure(figsize=(2,5))\n",
    "ax = fig.add_subplot(1,1,1) #1 column, 1 row and plot number 1.\n",
    "#subplots are useful when you want to show multiple plts in one figure. More on this later.\n",
    "\n",
    "ax.set_ylim(0, 50)\n",
    "ax.set_xlim(0, 20)\n",
    "#ax.axis('off')\n",
    "ax.set_xlabel('x goes from 0 to 20 -->')\n",
    "\n",
    "height = 10\n",
    "width = 10\n",
    "\n",
    "a = Ellipse((10, 45), height, width, 0, color='red', lw=1)\n",
    "ax.add_patch(a)\n",
    "\n",
    "a = Ellipse((10, 35), height, width, 10, color='blue', lw=1)\n",
    "ax.add_patch(a)\n",
    "\n",
    "a = Ellipse((10, 15),  height, width, 20, color='g', lw=1)\n",
    "ax.add_patch(a)\n",
    "\n",
    "a = Ellipse((20, 15), height, width, 30, color='k', lw=1, fill = None)\n",
    "ax.add_patch(a)\n",
    "\n"
   ]
  },
  {
   "cell_type": "code",
   "execution_count": null,
   "metadata": {},
   "outputs": [],
   "source": []
  }
 ],
 "metadata": {
  "kernelspec": {
   "display_name": "Python 3",
   "language": "python",
   "name": "python3"
  },
  "language_info": {
   "codemirror_mode": {
    "name": "ipython",
    "version": 3
   },
   "file_extension": ".py",
   "mimetype": "text/x-python",
   "name": "python",
   "nbconvert_exporter": "python",
   "pygments_lexer": "ipython3",
   "version": "3.7.4"
  }
 },
 "nbformat": 4,
 "nbformat_minor": 4
}
